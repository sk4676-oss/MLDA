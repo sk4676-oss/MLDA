{
  "nbformat": 4,
  "nbformat_minor": 0,
  "metadata": {
    "colab": {
      "provenance": [],
      "authorship_tag": "ABX9TyNZi7CSrXK+8BP4w6nMlPiT",
      "include_colab_link": true
    },
    "kernelspec": {
      "name": "python3",
      "display_name": "Python 3"
    },
    "language_info": {
      "name": "python"
    }
  },
  "cells": [
    {
      "cell_type": "markdown",
      "metadata": {
        "id": "view-in-github",
        "colab_type": "text"
      },
      "source": [
        "<a href=\"https://colab.research.google.com/github/sk4676-oss/MLDA/blob/main/T8_Naive_Bayes_classification.ipynb\" target=\"_parent\"><img src=\"https://colab.research.google.com/assets/colab-badge.svg\" alt=\"Open In Colab\"/></a>"
      ]
    },
    {
      "cell_type": "code",
      "execution_count": 3,
      "metadata": {
        "colab": {
          "base_uri": "https://localhost:8080/"
        },
        "id": "K_E1qGzI8Uaq",
        "outputId": "3ef018ff-6e10-42e1-f2c6-a3ff12b68f51"
      },
      "outputs": [
        {
          "output_type": "stream",
          "name": "stdout",
          "text": [
            "              precision    recall  f1-score   support\n",
            "\n",
            "           0       1.00      1.00      1.00         8\n",
            "           1       0.90      1.00      0.95         9\n",
            "           2       1.00      0.92      0.96        13\n",
            "\n",
            "    accuracy                           0.97        30\n",
            "   macro avg       0.97      0.97      0.97        30\n",
            "weighted avg       0.97      0.97      0.97        30\n",
            "\n",
            "[[ 8  0  0]\n",
            " [ 0  9  0]\n",
            " [ 0  1 12]]\n"
          ]
        }
      ],
      "source": [
        "from sklearn.datasets import load_iris\n",
        "from sklearn.model_selection import train_test_split\n",
        "from sklearn.naive_bayes import GaussianNB\n",
        "from sklearn.metrics import classification_report, confusion_matrix\n",
        "x,y=load_iris(return_X_y=True)\n",
        "xtr,xte,ytr,yte=train_test_split(x,y,test_size=0.2)\n",
        "model=GaussianNB()\n",
        "model.fit(xtr,ytr)\n",
        "ypred=model.predict(xte)\n",
        "print(classification_report(yte,ypred))\n",
        "CM=confusion_matrix(yte,ypred)\n",
        "print(CM)\n"
      ]
    }
  ]
}